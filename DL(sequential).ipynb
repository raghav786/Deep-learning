{
 "cells": [
  {
   "cell_type": "markdown",
   "metadata": {},
   "source": [
    "# Deep learning classification model "
   ]
  },
  {
   "cell_type": "code",
   "execution_count": 1,
   "metadata": {},
   "outputs": [
    {
     "name": "stderr",
     "output_type": "stream",
     "text": [
      "Using TensorFlow backend.\n"
     ]
    }
   ],
   "source": [
    "from keras.models import Sequential\n",
    "from keras.layers import Dense\n",
    "import pandas as pd\n",
    "import numpy as np"
   ]
  },
  {
   "cell_type": "markdown",
   "metadata": {},
   "source": [
    "# Dataset"
   ]
  },
  {
   "cell_type": "code",
   "execution_count": 2,
   "metadata": {},
   "outputs": [
    {
     "name": "stdout",
     "output_type": "stream",
     "text": [
      "                      0    1    2    3    4    5    6    7    8    9   ...  \\\n",
      "0  diaporthe-stem-canker  6.0  0.0  2.0  1.0  0.0  1.0  1.0  1.0  0.0  ...   \n",
      "1  diaporthe-stem-canker  4.0  0.0  2.0  1.0  0.0  2.0  0.0  2.0  1.0  ...   \n",
      "2  diaporthe-stem-canker  3.0  0.0  2.0  1.0  0.0  1.0  0.0  2.0  1.0  ...   \n",
      "3  diaporthe-stem-canker  3.0  0.0  2.0  1.0  0.0  1.0  0.0  2.0  0.0  ...   \n",
      "4  diaporthe-stem-canker  6.0  0.0  2.0  1.0  0.0  2.0  0.0  1.0  0.0  ...   \n",
      "\n",
      "    26   27   28   29   30   31   32   33   34   35  \n",
      "0  0.0  0.0  0.0  4.0  0.0  0.0  0.0  0.0  0.0  0.0  \n",
      "1  0.0  0.0  0.0  4.0  0.0  0.0  0.0  0.0  0.0  0.0  \n",
      "2  0.0  0.0  0.0  4.0  0.0  0.0  0.0  0.0  0.0  0.0  \n",
      "3  0.0  0.0  0.0  4.0  0.0  0.0  0.0  0.0  0.0  0.0  \n",
      "4  0.0  0.0  0.0  4.0  0.0  0.0  0.0  0.0  0.0  0.0  \n",
      "\n",
      "[5 rows x 36 columns]\n"
     ]
    }
   ],
   "source": [
    "df=pd.read_csv('https://raw.githubusercontent.com/selva86/datasets/master/Soybean.csv',header=None,skiprows=[0])\n",
    "print(df.head())"
   ]
  },
  {
   "cell_type": "code",
   "execution_count": 3,
   "metadata": {},
   "outputs": [
    {
     "data": {
      "text/plain": [
       "brown-spot                     92\n",
       "frog-eye-leaf-spot             91\n",
       "alternarialeaf-spot            91\n",
       "phytophthora-rot               88\n",
       "anthracnose                    44\n",
       "brown-stem-rot                 44\n",
       "downy-mildew                   20\n",
       "diaporthe-stem-canker          20\n",
       "purple-seed-stain              20\n",
       "bacterial-blight               20\n",
       "charcoal-rot                   20\n",
       "bacterial-pustule              20\n",
       "rhizoctonia-root-rot           20\n",
       "powdery-mildew                 20\n",
       "phyllosticta-leaf-spot         20\n",
       "2-4-d-injury                   16\n",
       "diaporthe-pod-&-stem-blight    15\n",
       "cyst-nematode                  14\n",
       "herbicide-injury                8\n",
       "Name: 0, dtype: int64"
      ]
     },
     "execution_count": 3,
     "metadata": {},
     "output_type": "execute_result"
    }
   ],
   "source": [
    "df[0].value_counts()"
   ]
  },
  {
   "cell_type": "markdown",
   "metadata": {},
   "source": [
    "# categorising targets"
   ]
  },
  {
   "cell_type": "code",
   "execution_count": 4,
   "metadata": {},
   "outputs": [
    {
     "name": "stdout",
     "output_type": "stream",
     "text": [
      "[[0 0 0 0 0 0 0 0 0 1 0 0 0 0 0 0 0 0]\n",
      " [0 0 0 0 0 0 0 0 0 1 0 0 0 0 0 0 0 0]\n",
      " [0 0 0 0 0 0 0 0 0 1 0 0 0 0 0 0 0 0]\n",
      " [0 0 0 0 0 0 0 0 0 1 0 0 0 0 0 0 0 0]\n",
      " [0 0 0 0 0 0 0 0 0 1 0 0 0 0 0 0 0 0]\n",
      " [0 0 0 0 0 0 0 0 0 1 0 0 0 0 0 0 0 0]\n",
      " [0 0 0 0 0 0 0 0 0 1 0 0 0 0 0 0 0 0]\n",
      " [0 0 0 0 0 0 0 0 0 1 0 0 0 0 0 0 0 0]\n",
      " [0 0 0 0 0 0 0 0 0 1 0 0 0 0 0 0 0 0]\n",
      " [0 0 0 0 0 0 0 0 0 1 0 0 0 0 0 0 0 0]]\n"
     ]
    }
   ],
   "source": [
    "target=pd.get_dummies(df.iloc[:,0],drop_first=True).values\n",
    "print(target[:10])"
   ]
  },
  {
   "cell_type": "code",
   "execution_count": 5,
   "metadata": {},
   "outputs": [
    {
     "name": "stdout",
     "output_type": "stream",
     "text": [
      "[[6. 0. 2. 1. 0. 1. 1. 1. 0. 0. 1. 1. 0. 2. 2. 0. 0. 0. 1. 1. 3. 1. 1. 1.\n",
      "  0. 0. 0. 0. 4. 0. 0. 0. 0. 0. 0.]\n",
      " [4. 0. 2. 1. 0. 2. 0. 2. 1. 1. 1. 1. 0. 2. 2. 0. 0. 0. 1. 0. 3. 1. 1. 1.\n",
      "  0. 0. 0. 0. 4. 0. 0. 0. 0. 0. 0.]\n",
      " [3. 0. 2. 1. 0. 1. 0. 2. 1. 2. 1. 1. 0. 2. 2. 0. 0. 0. 1. 0. 3. 0. 1. 1.\n",
      "  0. 0. 0. 0. 4. 0. 0. 0. 0. 0. 0.]\n",
      " [3. 0. 2. 1. 0. 1. 0. 2. 0. 1. 1. 1. 0. 2. 2. 0. 0. 0. 1. 0. 3. 0. 1. 1.\n",
      "  0. 0. 0. 0. 4. 0. 0. 0. 0. 0. 0.]\n",
      " [6. 0. 2. 1. 0. 2. 0. 1. 0. 2. 1. 1. 0. 2. 2. 0. 0. 0. 1. 0. 3. 1. 1. 1.\n",
      "  0. 0. 0. 0. 4. 0. 0. 0. 0. 0. 0.]\n",
      " [5. 0. 2. 1. 0. 3. 0. 1. 0. 1. 1. 1. 0. 2. 2. 0. 0. 0. 1. 0. 3. 0. 1. 1.\n",
      "  0. 0. 0. 0. 4. 0. 0. 0. 0. 0. 0.]\n",
      " [5. 0. 2. 1. 0. 2. 0. 1. 1. 0. 1. 1. 0. 2. 2. 0. 0. 0. 1. 1. 3. 1. 1. 1.\n",
      "  0. 0. 0. 0. 4. 0. 0. 0. 0. 0. 0.]]\n"
     ]
    }
   ],
   "source": [
    "predictors=df.drop(0,axis=1).values\n",
    "print(predictors[:7])\n",
    "n_cols=predictors.shape[1]"
   ]
  },
  {
   "cell_type": "markdown",
   "metadata": {},
   "source": [
    "# Instantiating the model,adding hidden and output layer."
   ]
  },
  {
   "cell_type": "code",
   "execution_count": 6,
   "metadata": {},
   "outputs": [
    {
     "name": "stdout",
     "output_type": "stream",
     "text": [
      "WARNING:tensorflow:From c:\\users\\r12\\pycharmprojects\\index\\venv\\lib\\site-packages\\tensorflow\\python\\framework\\op_def_library.py:263: colocate_with (from tensorflow.python.framework.ops) is deprecated and will be removed in a future version.\n",
      "Instructions for updating:\n",
      "Colocations handled automatically by placer.\n"
     ]
    }
   ],
   "source": [
    "model=Sequential()\n",
    "model.add(Dense(5,activation='relu',input_shape=(n_cols,)))\n",
    "model.add(Dense(5,activation='relu'))\n",
    "model.add(Dense(5,activation='relu'))\n",
    "model.add(Dense(18,activation='softmax'))"
   ]
  },
  {
   "cell_type": "markdown",
   "metadata": {},
   "source": [
    "# Compiling and fitting the model"
   ]
  },
  {
   "cell_type": "code",
   "execution_count": 7,
   "metadata": {},
   "outputs": [
    {
     "name": "stdout",
     "output_type": "stream",
     "text": [
      "WARNING:tensorflow:From c:\\users\\r12\\pycharmprojects\\index\\venv\\lib\\site-packages\\tensorflow\\python\\ops\\math_ops.py:3066: to_int32 (from tensorflow.python.ops.math_ops) is deprecated and will be removed in a future version.\n",
      "Instructions for updating:\n",
      "Use tf.cast instead.\n",
      "Epoch 1/100\n",
      "683/683 [==============================] - 1s 898us/step - loss: nan - acc: 0.1523\n",
      "Epoch 2/100\n",
      "683/683 [==============================] - 0s 65us/step - loss: nan - acc: 0.1567\n",
      "Epoch 3/100\n",
      "683/683 [==============================] - 0s 57us/step - loss: nan - acc: 0.1567\n",
      "Epoch 4/100\n",
      "683/683 [==============================] - 0s 57us/step - loss: nan - acc: 0.1567\n",
      "Epoch 5/100\n",
      "683/683 [==============================] - 0s 65us/step - loss: nan - acc: 0.1567\n",
      "Epoch 6/100\n",
      "683/683 [==============================] - 0s 67us/step - loss: nan - acc: 0.1567\n",
      "Epoch 7/100\n",
      "683/683 [==============================] - 0s 67us/step - loss: nan - acc: 0.1567\n",
      "Epoch 8/100\n",
      "683/683 [==============================] - 0s 69us/step - loss: nan - acc: 0.1567\n",
      "Epoch 9/100\n",
      "683/683 [==============================] - 0s 73us/step - loss: nan - acc: 0.1567\n",
      "Epoch 10/100\n",
      "683/683 [==============================] - 0s 63us/step - loss: nan - acc: 0.1567\n",
      "Epoch 11/100\n",
      "683/683 [==============================] - 0s 64us/step - loss: nan - acc: 0.1567\n",
      "Epoch 12/100\n",
      "683/683 [==============================] - 0s 68us/step - loss: nan - acc: 0.1567\n",
      "Epoch 13/100\n",
      "683/683 [==============================] - 0s 69us/step - loss: nan - acc: 0.1567\n",
      "Epoch 14/100\n",
      "683/683 [==============================] - 0s 68us/step - loss: nan - acc: 0.1567\n",
      "Epoch 15/100\n",
      "683/683 [==============================] - 0s 61us/step - loss: nan - acc: 0.1567\n",
      "Epoch 16/100\n",
      "683/683 [==============================] - 0s 70us/step - loss: nan - acc: 0.1567\n",
      "Epoch 17/100\n",
      "683/683 [==============================] - 0s 63us/step - loss: nan - acc: 0.1567\n",
      "Epoch 18/100\n",
      "683/683 [==============================] - 0s 67us/step - loss: nan - acc: 0.1567\n",
      "Epoch 19/100\n",
      "683/683 [==============================] - 0s 73us/step - loss: nan - acc: 0.1567\n",
      "Epoch 20/100\n",
      "683/683 [==============================] - 0s 71us/step - loss: nan - acc: 0.1567\n",
      "Epoch 21/100\n",
      "683/683 [==============================] - 0s 71us/step - loss: nan - acc: 0.1567\n",
      "Epoch 22/100\n",
      "683/683 [==============================] - 0s 68us/step - loss: nan - acc: 0.1567\n",
      "Epoch 23/100\n",
      "683/683 [==============================] - 0s 69us/step - loss: nan - acc: 0.1567\n",
      "Epoch 24/100\n",
      "683/683 [==============================] - 0s 60us/step - loss: nan - acc: 0.1567\n",
      "Epoch 25/100\n",
      "683/683 [==============================] - 0s 68us/step - loss: nan - acc: 0.1567\n",
      "Epoch 26/100\n",
      "683/683 [==============================] - 0s 91us/step - loss: nan - acc: 0.1567\n",
      "Epoch 27/100\n",
      "683/683 [==============================] - 0s 81us/step - loss: nan - acc: 0.1567\n",
      "Epoch 28/100\n",
      "683/683 [==============================] - 0s 96us/step - loss: nan - acc: 0.1567\n",
      "Epoch 29/100\n",
      "683/683 [==============================] - 0s 97us/step - loss: nan - acc: 0.1567\n",
      "Epoch 30/100\n",
      "683/683 [==============================] - 0s 93us/step - loss: nan - acc: 0.1567\n",
      "Epoch 31/100\n",
      "683/683 [==============================] - 0s 81us/step - loss: nan - acc: 0.1567\n",
      "Epoch 32/100\n",
      "683/683 [==============================] - 0s 90us/step - loss: nan - acc: 0.1567\n",
      "Epoch 33/100\n",
      "683/683 [==============================] - 0s 106us/step - loss: nan - acc: 0.1567\n",
      "Epoch 34/100\n",
      "683/683 [==============================] - 0s 96us/step - loss: nan - acc: 0.1567\n",
      "Epoch 35/100\n",
      "683/683 [==============================] - 0s 103us/step - loss: nan - acc: 0.1567\n",
      "Epoch 36/100\n",
      "683/683 [==============================] - 0s 83us/step - loss: nan - acc: 0.1567\n",
      "Epoch 37/100\n",
      "683/683 [==============================] - 0s 91us/step - loss: nan - acc: 0.1567\n",
      "Epoch 38/100\n",
      "683/683 [==============================] - 0s 90us/step - loss: nan - acc: 0.1567\n",
      "Epoch 39/100\n",
      "683/683 [==============================] - 0s 81us/step - loss: nan - acc: 0.1567\n",
      "Epoch 40/100\n",
      "683/683 [==============================] - 0s 105us/step - loss: nan - acc: 0.1567\n",
      "Epoch 41/100\n",
      "683/683 [==============================] - 0s 106us/step - loss: nan - acc: 0.1567\n",
      "Epoch 42/100\n",
      "683/683 [==============================] - 0s 96us/step - loss: nan - acc: 0.1567\n",
      "Epoch 43/100\n",
      "683/683 [==============================] - 0s 94us/step - loss: nan - acc: 0.1567\n",
      "Epoch 44/100\n",
      "683/683 [==============================] - 0s 98us/step - loss: nan - acc: 0.1567\n",
      "Epoch 45/100\n",
      "683/683 [==============================] - 0s 100us/step - loss: nan - acc: 0.1567\n",
      "Epoch 46/100\n",
      "683/683 [==============================] - 0s 109us/step - loss: nan - acc: 0.1567\n",
      "Epoch 47/100\n",
      "683/683 [==============================] - 0s 111us/step - loss: nan - acc: 0.1567\n",
      "Epoch 48/100\n",
      "683/683 [==============================] - 0s 90us/step - loss: nan - acc: 0.1567\n",
      "Epoch 49/100\n",
      "683/683 [==============================] - 0s 91us/step - loss: nan - acc: 0.1567\n",
      "Epoch 50/100\n",
      "683/683 [==============================] - 0s 73us/step - loss: nan - acc: 0.1567\n",
      "Epoch 51/100\n",
      "683/683 [==============================] - 0s 74us/step - loss: nan - acc: 0.1567\n",
      "Epoch 52/100\n",
      "683/683 [==============================] - 0s 78us/step - loss: nan - acc: 0.1567\n",
      "Epoch 53/100\n",
      "683/683 [==============================] - 0s 91us/step - loss: nan - acc: 0.1567\n",
      "Epoch 54/100\n",
      "683/683 [==============================] - 0s 106us/step - loss: nan - acc: 0.1567\n",
      "Epoch 55/100\n",
      "683/683 [==============================] - 0s 95us/step - loss: nan - acc: 0.1567\n",
      "Epoch 56/100\n",
      "683/683 [==============================] - 0s 95us/step - loss: nan - acc: 0.1567\n",
      "Epoch 57/100\n",
      "683/683 [==============================] - 0s 94us/step - loss: nan - acc: 0.1567\n",
      "Epoch 58/100\n",
      "683/683 [==============================] - 0s 99us/step - loss: nan - acc: 0.1567\n",
      "Epoch 59/100\n",
      "683/683 [==============================] - 0s 114us/step - loss: nan - acc: 0.1567\n",
      "Epoch 60/100\n",
      "683/683 [==============================] - 0s 72us/step - loss: nan - acc: 0.1567\n",
      "Epoch 61/100\n",
      "683/683 [==============================] - 0s 65us/step - loss: nan - acc: 0.1567\n",
      "Epoch 62/100\n",
      "683/683 [==============================] - 0s 74us/step - loss: nan - acc: 0.1567\n",
      "Epoch 63/100\n",
      "683/683 [==============================] - 0s 77us/step - loss: nan - acc: 0.1567\n",
      "Epoch 64/100\n",
      "683/683 [==============================] - 0s 73us/step - loss: nan - acc: 0.1567\n",
      "Epoch 65/100\n",
      "683/683 [==============================] - 0s 71us/step - loss: nan - acc: 0.1567\n",
      "Epoch 66/100\n",
      "683/683 [==============================] - 0s 79us/step - loss: nan - acc: 0.1567\n",
      "Epoch 67/100\n",
      "683/683 [==============================] - 0s 75us/step - loss: nan - acc: 0.1567\n",
      "Epoch 68/100\n",
      "683/683 [==============================] - 0s 77us/step - loss: nan - acc: 0.1567\n",
      "Epoch 69/100\n",
      "683/683 [==============================] - 0s 75us/step - loss: nan - acc: 0.1567\n",
      "Epoch 70/100\n",
      "683/683 [==============================] - 0s 71us/step - loss: nan - acc: 0.1567\n",
      "Epoch 71/100\n",
      "683/683 [==============================] - 0s 72us/step - loss: nan - acc: 0.1567\n",
      "Epoch 72/100\n",
      "683/683 [==============================] - 0s 69us/step - loss: nan - acc: 0.1567\n",
      "Epoch 73/100\n",
      "683/683 [==============================] - 0s 73us/step - loss: nan - acc: 0.1567\n",
      "Epoch 74/100\n",
      "683/683 [==============================] - 0s 69us/step - loss: nan - acc: 0.1567\n",
      "Epoch 75/100\n",
      "683/683 [==============================] - 0s 73us/step - loss: nan - acc: 0.1567\n",
      "Epoch 76/100\n",
      "683/683 [==============================] - 0s 72us/step - loss: nan - acc: 0.1567\n",
      "Epoch 77/100\n",
      "683/683 [==============================] - 0s 128us/step - loss: nan - acc: 0.1567\n",
      "Epoch 78/100\n",
      "683/683 [==============================] - 0s 111us/step - loss: nan - acc: 0.1567\n",
      "Epoch 79/100\n",
      "683/683 [==============================] - 0s 111us/step - loss: nan - acc: 0.1567\n",
      "Epoch 80/100\n",
      "683/683 [==============================] - 0s 89us/step - loss: nan - acc: 0.1567\n",
      "Epoch 81/100\n",
      "683/683 [==============================] - 0s 94us/step - loss: nan - acc: 0.1567\n",
      "Epoch 82/100\n",
      "683/683 [==============================] - 0s 93us/step - loss: nan - acc: 0.1567\n",
      "Epoch 83/100\n",
      "683/683 [==============================] - 0s 95us/step - loss: nan - acc: 0.1567\n",
      "Epoch 84/100\n"
     ]
    },
    {
     "name": "stdout",
     "output_type": "stream",
     "text": [
      "683/683 [==============================] - 0s 97us/step - loss: nan - acc: 0.1567\n",
      "Epoch 85/100\n",
      "683/683 [==============================] - 0s 103us/step - loss: nan - acc: 0.1567\n",
      "Epoch 86/100\n",
      "683/683 [==============================] - 0s 96us/step - loss: nan - acc: 0.1567\n",
      "Epoch 87/100\n",
      "683/683 [==============================] - 0s 78us/step - loss: nan - acc: 0.1567\n",
      "Epoch 88/100\n",
      "683/683 [==============================] - 0s 92us/step - loss: nan - acc: 0.1567\n",
      "Epoch 89/100\n",
      "683/683 [==============================] - 0s 89us/step - loss: nan - acc: 0.1567\n",
      "Epoch 90/100\n",
      "683/683 [==============================] - 0s 85us/step - loss: nan - acc: 0.1567\n",
      "Epoch 91/100\n",
      "683/683 [==============================] - 0s 95us/step - loss: nan - acc: 0.1567\n",
      "Epoch 92/100\n",
      "683/683 [==============================] - 0s 77us/step - loss: nan - acc: 0.1567\n",
      "Epoch 93/100\n",
      "683/683 [==============================] - 0s 82us/step - loss: nan - acc: 0.1567\n",
      "Epoch 94/100\n",
      "683/683 [==============================] - 0s 75us/step - loss: nan - acc: 0.1567\n",
      "Epoch 95/100\n",
      "683/683 [==============================] - 0s 84us/step - loss: nan - acc: 0.1567\n",
      "Epoch 96/100\n",
      "683/683 [==============================] - 0s 89us/step - loss: nan - acc: 0.1567\n",
      "Epoch 97/100\n",
      "683/683 [==============================] - 0s 83us/step - loss: nan - acc: 0.1567\n",
      "Epoch 98/100\n",
      "683/683 [==============================] - 0s 111us/step - loss: nan - acc: 0.1567\n",
      "Epoch 99/100\n",
      "683/683 [==============================] - 0s 93us/step - loss: nan - acc: 0.1567\n",
      "Epoch 100/100\n",
      "683/683 [==============================] - 0s 91us/step - loss: nan - acc: 0.1567\n"
     ]
    },
    {
     "data": {
      "text/plain": [
       "<keras.callbacks.History at 0x23cc979d8d0>"
      ]
     },
     "execution_count": 7,
     "metadata": {},
     "output_type": "execute_result"
    }
   ],
   "source": [
    "model.compile(optimizer='adam',loss='categorical_crossentropy',metrics=['accuracy'])\n",
    "model.fit(predictors,target,epochs=100)"
   ]
  },
  {
   "cell_type": "markdown",
   "metadata": {},
   "source": [
    "# Adding validation split"
   ]
  },
  {
   "cell_type": "code",
   "execution_count": 12,
   "metadata": {},
   "outputs": [
    {
     "name": "stdout",
     "output_type": "stream",
     "text": [
      "Train on 546 samples, validate on 137 samples\n",
      "Epoch 1/100\n",
      "546/546 [==============================] - 0s 74us/step - loss: nan - acc: 0.0769 - val_loss: nan - val_acc: 0.4745\n",
      "Epoch 2/100\n",
      "546/546 [==============================] - 0s 72us/step - loss: nan - acc: 0.0769 - val_loss: nan - val_acc: 0.4745\n",
      "Epoch 3/100\n",
      "546/546 [==============================] - 0s 93us/step - loss: nan - acc: 0.0769 - val_loss: nan - val_acc: 0.4745\n",
      "Epoch 4/100\n",
      "546/546 [==============================] - 0s 88us/step - loss: nan - acc: 0.0769 - val_loss: nan - val_acc: 0.4745\n",
      "Epoch 5/100\n",
      "546/546 [==============================] - 0s 86us/step - loss: nan - acc: 0.0769 - val_loss: nan - val_acc: 0.4745\n",
      "Epoch 6/100\n",
      "546/546 [==============================] - 0s 102us/step - loss: nan - acc: 0.0769 - val_loss: nan - val_acc: 0.4745\n",
      "Epoch 7/100\n",
      "546/546 [==============================] - 0s 85us/step - loss: nan - acc: 0.0769 - val_loss: nan - val_acc: 0.4745\n",
      "Epoch 8/100\n",
      "546/546 [==============================] - 0s 86us/step - loss: nan - acc: 0.0769 - val_loss: nan - val_acc: 0.4745\n",
      "Epoch 9/100\n",
      "546/546 [==============================] - 0s 72us/step - loss: nan - acc: 0.0769 - val_loss: nan - val_acc: 0.4745\n",
      "Epoch 10/100\n",
      "546/546 [==============================] - 0s 81us/step - loss: nan - acc: 0.0769 - val_loss: nan - val_acc: 0.4745\n",
      "Epoch 11/100\n",
      "546/546 [==============================] - 0s 96us/step - loss: nan - acc: 0.0769 - val_loss: nan - val_acc: 0.4745\n",
      "Epoch 12/100\n",
      "546/546 [==============================] - 0s 88us/step - loss: nan - acc: 0.0769 - val_loss: nan - val_acc: 0.4745\n",
      "Epoch 13/100\n",
      "546/546 [==============================] - 0s 90us/step - loss: nan - acc: 0.0769 - val_loss: nan - val_acc: 0.4745\n",
      "Epoch 14/100\n",
      "546/546 [==============================] - 0s 80us/step - loss: nan - acc: 0.0769 - val_loss: nan - val_acc: 0.4745\n",
      "Epoch 15/100\n",
      "546/546 [==============================] - 0s 79us/step - loss: nan - acc: 0.0769 - val_loss: nan - val_acc: 0.4745\n",
      "Epoch 16/100\n",
      "546/546 [==============================] - 0s 77us/step - loss: nan - acc: 0.0769 - val_loss: nan - val_acc: 0.4745\n",
      "Epoch 17/100\n",
      "546/546 [==============================] - 0s 86us/step - loss: nan - acc: 0.0769 - val_loss: nan - val_acc: 0.4745\n",
      "Epoch 18/100\n",
      "546/546 [==============================] - 0s 89us/step - loss: nan - acc: 0.0769 - val_loss: nan - val_acc: 0.4745\n",
      "Epoch 19/100\n",
      "546/546 [==============================] - 0s 89us/step - loss: nan - acc: 0.0769 - val_loss: nan - val_acc: 0.4745\n",
      "Epoch 20/100\n",
      "546/546 [==============================] - 0s 78us/step - loss: nan - acc: 0.0769 - val_loss: nan - val_acc: 0.4745\n",
      "Epoch 21/100\n",
      "546/546 [==============================] - 0s 96us/step - loss: nan - acc: 0.0769 - val_loss: nan - val_acc: 0.4745\n",
      "Epoch 22/100\n",
      "546/546 [==============================] - 0s 87us/step - loss: nan - acc: 0.0769 - val_loss: nan - val_acc: 0.4745\n",
      "Epoch 23/100\n",
      "546/546 [==============================] - 0s 99us/step - loss: nan - acc: 0.0769 - val_loss: nan - val_acc: 0.4745\n",
      "Epoch 24/100\n",
      "546/546 [==============================] - 0s 79us/step - loss: nan - acc: 0.0769 - val_loss: nan - val_acc: 0.4745\n",
      "Epoch 25/100\n",
      "546/546 [==============================] - 0s 82us/step - loss: nan - acc: 0.0769 - val_loss: nan - val_acc: 0.4745\n",
      "Epoch 26/100\n",
      "546/546 [==============================] - 0s 67us/step - loss: nan - acc: 0.0769 - val_loss: nan - val_acc: 0.4745\n",
      "Epoch 27/100\n",
      "546/546 [==============================] - 0s 94us/step - loss: nan - acc: 0.0769 - val_loss: nan - val_acc: 0.4745\n",
      "Epoch 28/100\n",
      "546/546 [==============================] - 0s 66us/step - loss: nan - acc: 0.0769 - val_loss: nan - val_acc: 0.4745\n",
      "Epoch 29/100\n",
      "546/546 [==============================] - 0s 72us/step - loss: nan - acc: 0.0769 - val_loss: nan - val_acc: 0.4745\n",
      "Epoch 30/100\n",
      "546/546 [==============================] - 0s 77us/step - loss: nan - acc: 0.0769 - val_loss: nan - val_acc: 0.4745\n",
      "Epoch 31/100\n",
      "546/546 [==============================] - 0s 68us/step - loss: nan - acc: 0.0769 - val_loss: nan - val_acc: 0.4745\n",
      "Epoch 32/100\n",
      "546/546 [==============================] - 0s 88us/step - loss: nan - acc: 0.0769 - val_loss: nan - val_acc: 0.4745\n",
      "Epoch 33/100\n",
      "546/546 [==============================] - 0s 83us/step - loss: nan - acc: 0.0769 - val_loss: nan - val_acc: 0.4745\n",
      "Epoch 34/100\n",
      "546/546 [==============================] - 0s 77us/step - loss: nan - acc: 0.0769 - val_loss: nan - val_acc: 0.4745\n",
      "Epoch 35/100\n",
      "546/546 [==============================] - 0s 78us/step - loss: nan - acc: 0.0769 - val_loss: nan - val_acc: 0.4745\n",
      "Epoch 36/100\n",
      "546/546 [==============================] - 0s 82us/step - loss: nan - acc: 0.0769 - val_loss: nan - val_acc: 0.4745\n",
      "Epoch 37/100\n",
      "546/546 [==============================] - 0s 80us/step - loss: nan - acc: 0.0769 - val_loss: nan - val_acc: 0.4745\n",
      "Epoch 38/100\n",
      "546/546 [==============================] - 0s 81us/step - loss: nan - acc: 0.0769 - val_loss: nan - val_acc: 0.4745\n",
      "Epoch 39/100\n",
      "546/546 [==============================] - 0s 87us/step - loss: nan - acc: 0.0769 - val_loss: nan - val_acc: 0.4745\n",
      "Epoch 40/100\n",
      "546/546 [==============================] - 0s 85us/step - loss: nan - acc: 0.0769 - val_loss: nan - val_acc: 0.4745\n",
      "Epoch 41/100\n",
      "546/546 [==============================] - 0s 69us/step - loss: nan - acc: 0.0769 - val_loss: nan - val_acc: 0.4745\n",
      "Epoch 42/100\n",
      "546/546 [==============================] - 0s 83us/step - loss: nan - acc: 0.0769 - val_loss: nan - val_acc: 0.4745\n",
      "Epoch 43/100\n",
      "546/546 [==============================] - 0s 77us/step - loss: nan - acc: 0.0769 - val_loss: nan - val_acc: 0.4745\n",
      "Epoch 44/100\n",
      "546/546 [==============================] - 0s 77us/step - loss: nan - acc: 0.0769 - val_loss: nan - val_acc: 0.4745\n",
      "Epoch 45/100\n",
      "546/546 [==============================] - 0s 82us/step - loss: nan - acc: 0.0769 - val_loss: nan - val_acc: 0.4745\n",
      "Epoch 46/100\n",
      "546/546 [==============================] - 0s 80us/step - loss: nan - acc: 0.0769 - val_loss: nan - val_acc: 0.4745\n",
      "Epoch 47/100\n",
      "546/546 [==============================] - 0s 95us/step - loss: nan - acc: 0.0769 - val_loss: nan - val_acc: 0.4745\n",
      "Epoch 48/100\n",
      "546/546 [==============================] - 0s 95us/step - loss: nan - acc: 0.0769 - val_loss: nan - val_acc: 0.4745\n",
      "Epoch 49/100\n",
      "546/546 [==============================] - 0s 83us/step - loss: nan - acc: 0.0769 - val_loss: nan - val_acc: 0.4745\n",
      "Epoch 50/100\n",
      "546/546 [==============================] - 0s 83us/step - loss: nan - acc: 0.0769 - val_loss: nan - val_acc: 0.4745\n",
      "Epoch 51/100\n",
      "546/546 [==============================] - 0s 86us/step - loss: nan - acc: 0.0769 - val_loss: nan - val_acc: 0.4745\n",
      "Epoch 52/100\n",
      "546/546 [==============================] - 0s 88us/step - loss: nan - acc: 0.0769 - val_loss: nan - val_acc: 0.4745\n",
      "Epoch 53/100\n",
      "546/546 [==============================] - 0s 77us/step - loss: nan - acc: 0.0769 - val_loss: nan - val_acc: 0.4745\n",
      "Epoch 54/100\n",
      "546/546 [==============================] - 0s 75us/step - loss: nan - acc: 0.0769 - val_loss: nan - val_acc: 0.4745\n",
      "Epoch 55/100\n",
      "546/546 [==============================] - 0s 78us/step - loss: nan - acc: 0.0769 - val_loss: nan - val_acc: 0.4745\n",
      "Epoch 56/100\n",
      "546/546 [==============================] - 0s 84us/step - loss: nan - acc: 0.0769 - val_loss: nan - val_acc: 0.4745\n",
      "Epoch 57/100\n",
      "546/546 [==============================] - 0s 107us/step - loss: nan - acc: 0.0769 - val_loss: nan - val_acc: 0.4745\n",
      "Epoch 58/100\n",
      "546/546 [==============================] - 0s 87us/step - loss: nan - acc: 0.0769 - val_loss: nan - val_acc: 0.4745\n",
      "Epoch 59/100\n",
      "546/546 [==============================] - 0s 85us/step - loss: nan - acc: 0.0769 - val_loss: nan - val_acc: 0.4745\n",
      "Epoch 60/100\n",
      "546/546 [==============================] - 0s 77us/step - loss: nan - acc: 0.0769 - val_loss: nan - val_acc: 0.4745\n",
      "Epoch 61/100\n",
      "546/546 [==============================] - 0s 95us/step - loss: nan - acc: 0.0769 - val_loss: nan - val_acc: 0.4745\n",
      "Epoch 62/100\n",
      "546/546 [==============================] - 0s 89us/step - loss: nan - acc: 0.0769 - val_loss: nan - val_acc: 0.4745\n",
      "Epoch 63/100\n",
      "546/546 [==============================] - 0s 89us/step - loss: nan - acc: 0.0769 - val_loss: nan - val_acc: 0.4745\n",
      "Epoch 64/100\n"
     ]
    },
    {
     "name": "stdout",
     "output_type": "stream",
     "text": [
      "546/546 [==============================] - 0s 83us/step - loss: nan - acc: 0.0769 - val_loss: nan - val_acc: 0.4745\n",
      "Epoch 65/100\n",
      "546/546 [==============================] - 0s 72us/step - loss: nan - acc: 0.0769 - val_loss: nan - val_acc: 0.4745\n",
      "Epoch 66/100\n",
      "546/546 [==============================] - 0s 79us/step - loss: nan - acc: 0.0769 - val_loss: nan - val_acc: 0.4745\n",
      "Epoch 67/100\n",
      "546/546 [==============================] - 0s 67us/step - loss: nan - acc: 0.0769 - val_loss: nan - val_acc: 0.4745\n",
      "Epoch 68/100\n",
      "546/546 [==============================] - 0s 70us/step - loss: nan - acc: 0.0769 - val_loss: nan - val_acc: 0.4745\n",
      "Epoch 69/100\n",
      "546/546 [==============================] - 0s 85us/step - loss: nan - acc: 0.0769 - val_loss: nan - val_acc: 0.4745\n",
      "Epoch 70/100\n",
      "546/546 [==============================] - 0s 70us/step - loss: nan - acc: 0.0769 - val_loss: nan - val_acc: 0.4745\n",
      "Epoch 71/100\n",
      "546/546 [==============================] - 0s 85us/step - loss: nan - acc: 0.0769 - val_loss: nan - val_acc: 0.4745\n",
      "Epoch 72/100\n",
      "546/546 [==============================] - 0s 78us/step - loss: nan - acc: 0.0769 - val_loss: nan - val_acc: 0.4745\n",
      "Epoch 73/100\n",
      "546/546 [==============================] - 0s 70us/step - loss: nan - acc: 0.0769 - val_loss: nan - val_acc: 0.4745\n",
      "Epoch 74/100\n",
      "546/546 [==============================] - 0s 87us/step - loss: nan - acc: 0.0769 - val_loss: nan - val_acc: 0.4745\n",
      "Epoch 75/100\n",
      "546/546 [==============================] - 0s 75us/step - loss: nan - acc: 0.0769 - val_loss: nan - val_acc: 0.4745\n",
      "Epoch 76/100\n",
      "546/546 [==============================] - 0s 68us/step - loss: nan - acc: 0.0769 - val_loss: nan - val_acc: 0.4745\n",
      "Epoch 77/100\n",
      "546/546 [==============================] - 0s 77us/step - loss: nan - acc: 0.0769 - val_loss: nan - val_acc: 0.4745\n",
      "Epoch 78/100\n",
      "546/546 [==============================] - ETA: 0s - loss: nan - acc: 0.09 - 0s 81us/step - loss: nan - acc: 0.0769 - val_loss: nan - val_acc: 0.4745\n",
      "Epoch 79/100\n",
      "546/546 [==============================] - 0s 73us/step - loss: nan - acc: 0.0769 - val_loss: nan - val_acc: 0.4745\n",
      "Epoch 80/100\n",
      "546/546 [==============================] - 0s 71us/step - loss: nan - acc: 0.0769 - val_loss: nan - val_acc: 0.4745\n",
      "Epoch 81/100\n",
      "546/546 [==============================] - 0s 72us/step - loss: nan - acc: 0.0769 - val_loss: nan - val_acc: 0.4745\n",
      "Epoch 82/100\n",
      "546/546 [==============================] - 0s 62us/step - loss: nan - acc: 0.0769 - val_loss: nan - val_acc: 0.4745\n",
      "Epoch 83/100\n",
      "546/546 [==============================] - 0s 84us/step - loss: nan - acc: 0.0769 - val_loss: nan - val_acc: 0.4745\n",
      "Epoch 84/100\n",
      "546/546 [==============================] - 0s 91us/step - loss: nan - acc: 0.0769 - val_loss: nan - val_acc: 0.4745\n",
      "Epoch 85/100\n",
      "546/546 [==============================] - 0s 67us/step - loss: nan - acc: 0.0769 - val_loss: nan - val_acc: 0.4745\n",
      "Epoch 86/100\n",
      "546/546 [==============================] - 0s 73us/step - loss: nan - acc: 0.0769 - val_loss: nan - val_acc: 0.4745\n",
      "Epoch 87/100\n",
      "546/546 [==============================] - 0s 88us/step - loss: nan - acc: 0.0769 - val_loss: nan - val_acc: 0.4745\n",
      "Epoch 88/100\n",
      "546/546 [==============================] - 0s 104us/step - loss: nan - acc: 0.0769 - val_loss: nan - val_acc: 0.4745\n",
      "Epoch 89/100\n",
      "546/546 [==============================] - 0s 84us/step - loss: nan - acc: 0.0769 - val_loss: nan - val_acc: 0.4745\n",
      "Epoch 90/100\n",
      "546/546 [==============================] - 0s 77us/step - loss: nan - acc: 0.0769 - val_loss: nan - val_acc: 0.4745\n",
      "Epoch 91/100\n",
      "546/546 [==============================] - 0s 84us/step - loss: nan - acc: 0.0769 - val_loss: nan - val_acc: 0.4745\n",
      "Epoch 92/100\n",
      "546/546 [==============================] - 0s 93us/step - loss: nan - acc: 0.0769 - val_loss: nan - val_acc: 0.4745\n",
      "Epoch 93/100\n",
      "546/546 [==============================] - 0s 94us/step - loss: nan - acc: 0.0769 - val_loss: nan - val_acc: 0.4745\n",
      "Epoch 94/100\n",
      "546/546 [==============================] - 0s 85us/step - loss: nan - acc: 0.0769 - val_loss: nan - val_acc: 0.4745\n",
      "Epoch 95/100\n",
      "546/546 [==============================] - 0s 92us/step - loss: nan - acc: 0.0769 - val_loss: nan - val_acc: 0.4745\n",
      "Epoch 96/100\n",
      "546/546 [==============================] - 0s 94us/step - loss: nan - acc: 0.0769 - val_loss: nan - val_acc: 0.4745\n",
      "Epoch 97/100\n",
      "546/546 [==============================] - 0s 79us/step - loss: nan - acc: 0.0769 - val_loss: nan - val_acc: 0.4745\n",
      "Epoch 98/100\n",
      "546/546 [==============================] - 0s 85us/step - loss: nan - acc: 0.0769 - val_loss: nan - val_acc: 0.4745\n",
      "Epoch 99/100\n",
      "546/546 [==============================] - 0s 81us/step - loss: nan - acc: 0.0769 - val_loss: nan - val_acc: 0.4745\n",
      "Epoch 100/100\n",
      "546/546 [==============================] - 0s 94us/step - loss: nan - acc: 0.0769 - val_loss: nan - val_acc: 0.4745\n"
     ]
    },
    {
     "data": {
      "text/plain": [
       "<keras.callbacks.History at 0x23cc96e7390>"
      ]
     },
     "execution_count": 12,
     "metadata": {},
     "output_type": "execute_result"
    }
   ],
   "source": [
    "model.fit(predictors,target,epochs=100,validation_split=0.2)"
   ]
  },
  {
   "cell_type": "markdown",
   "metadata": {},
   "source": [
    "# Adding Callbacks"
   ]
  },
  {
   "cell_type": "code",
   "execution_count": 14,
   "metadata": {},
   "outputs": [],
   "source": [
    "from keras.callbacks import EarlyStopping\n",
    "early_stopping_monitor=EarlyStopping(patience=2)"
   ]
  },
  {
   "cell_type": "code",
   "execution_count": 16,
   "metadata": {
    "scrolled": true
   },
   "outputs": [
    {
     "name": "stdout",
     "output_type": "stream",
     "text": [
      "Train on 546 samples, validate on 137 samples\n",
      "Epoch 1/30\n",
      "546/546 [==============================] - 0s 78us/step - loss: nan - acc: 0.0769 - val_loss: nan - val_acc: 0.4745\n",
      "Epoch 2/30\n",
      "546/546 [==============================] - 0s 95us/step - loss: nan - acc: 0.0769 - val_loss: nan - val_acc: 0.4745\n"
     ]
    },
    {
     "data": {
      "text/plain": [
       "<keras.callbacks.History at 0x23ccaa9aba8>"
      ]
     },
     "execution_count": 16,
     "metadata": {},
     "output_type": "execute_result"
    }
   ],
   "source": [
    "model.fit(predictors,target,validation_split=0.2,callbacks=[early_stopping_monitor],epochs=30)"
   ]
  },
  {
   "cell_type": "code",
   "execution_count": null,
   "metadata": {},
   "outputs": [],
   "source": []
  }
 ],
 "metadata": {
  "kernelspec": {
   "display_name": "Python 3",
   "language": "python",
   "name": "python3"
  },
  "language_info": {
   "codemirror_mode": {
    "name": "ipython",
    "version": 3
   },
   "file_extension": ".py",
   "mimetype": "text/x-python",
   "name": "python",
   "nbconvert_exporter": "python",
   "pygments_lexer": "ipython3",
   "version": "3.7.2"
  }
 },
 "nbformat": 4,
 "nbformat_minor": 2
}
